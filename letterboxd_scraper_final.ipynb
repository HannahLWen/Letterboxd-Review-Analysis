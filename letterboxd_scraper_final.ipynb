{
 "cells": [
  {
   "cell_type": "code",
   "execution_count": 2,
   "id": "28108035-cca3-4ec5-a5d6-e4323efd6fd0",
   "metadata": {
    "tags": []
   },
   "outputs": [
    {
     "name": "stderr",
     "output_type": "stream",
     "text": [
      "Error getting version of chromedriver 116. Retrying with chromedriver 115 (attempt 1/5)\n",
      "Error getting version of chromedriver 115. Retrying with chromedriver 114 (attempt 2/5)\n"
     ]
    },
    {
     "ename": "SessionNotCreatedException",
     "evalue": "Message: session not created: This version of ChromeDriver only supports Chrome version 114\nCurrent browser version is 116.0.5845.110 with binary path /Applications/Google Chrome.app/Contents/MacOS/Google Chrome\nStacktrace:\n0   chromedriver                        0x00000001004a7f48 chromedriver + 4226888\n1   chromedriver                        0x00000001004a04f4 chromedriver + 4195572\n2   chromedriver                        0x00000001000e4d68 chromedriver + 281960\n3   chromedriver                        0x0000000100110bac chromedriver + 461740\n4   chromedriver                        0x000000010010cfd8 chromedriver + 446424\n5   chromedriver                        0x000000010010a150 chromedriver + 434512\n6   chromedriver                        0x000000010014793c chromedriver + 686396\n7   chromedriver                        0x0000000100147164 chromedriver + 684388\n8   chromedriver                        0x0000000100113f1c chromedriver + 474908\n9   chromedriver                        0x0000000100114ef4 chromedriver + 478964\n10  chromedriver                        0x000000010046959c chromedriver + 3970460\n11  chromedriver                        0x000000010046d6f0 chromedriver + 3987184\n12  chromedriver                        0x00000001004735b4 chromedriver + 4011444\n13  chromedriver                        0x000000010046e2fc chromedriver + 3990268\n14  chromedriver                        0x00000001004461c0 chromedriver + 3826112\n15  chromedriver                        0x000000010048a088 chromedriver + 4104328\n16  chromedriver                        0x000000010048a1e0 chromedriver + 4104672\n17  chromedriver                        0x0000000100499f28 chromedriver + 4169512\n18  libsystem_pthread.dylib             0x0000000185dfffa8 _pthread_start + 148\n19  libsystem_pthread.dylib             0x0000000185dfada0 thread_start + 8\n",
     "output_type": "error",
     "traceback": [
      "\u001b[0;31m---------------------------------------------------------------------------\u001b[0m",
      "\u001b[0;31mSessionNotCreatedException\u001b[0m                Traceback (most recent call last)",
      "Cell \u001b[0;32mIn[2], line 11\u001b[0m\n\u001b[1;32m      9\u001b[0m chrome_options\u001b[38;5;241m.\u001b[39madd_argument(\u001b[38;5;124m'\u001b[39m\u001b[38;5;124m--headless\u001b[39m\u001b[38;5;124m'\u001b[39m)  \u001b[38;5;66;03m# Enable headless mode\u001b[39;00m\n\u001b[1;32m     10\u001b[0m chrome_options\u001b[38;5;241m.\u001b[39madd_argument(\u001b[38;5;124m'\u001b[39m\u001b[38;5;124m--disable-gpu\u001b[39m\u001b[38;5;124m'\u001b[39m)  \u001b[38;5;66;03m# Disable GPU acceleration in headless mode (optional)\u001b[39;00m\n\u001b[0;32m---> 11\u001b[0m driver \u001b[38;5;241m=\u001b[39m webdriver\u001b[38;5;241m.\u001b[39mChrome(options\u001b[38;5;241m=\u001b[39mchrome_options)\n\u001b[1;32m     15\u001b[0m fields \u001b[38;5;241m=\u001b[39m [\u001b[38;5;124m\"\u001b[39m\u001b[38;5;124mLink\u001b[39m\u001b[38;5;124m\"\u001b[39m, \u001b[38;5;124m\"\u001b[39m\u001b[38;5;124mTitle\u001b[39m\u001b[38;5;124m\"\u001b[39m, \u001b[38;5;124m\"\u001b[39m\u001b[38;5;124mYear\u001b[39m\u001b[38;5;124m\"\u001b[39m, \u001b[38;5;124m\"\u001b[39m\u001b[38;5;124mRating\u001b[39m\u001b[38;5;124m\"\u001b[39m] \u001b[38;5;66;03m# creating data columns\u001b[39;00m\n\u001b[1;32m     16\u001b[0m filename \u001b[38;5;241m=\u001b[39m \u001b[38;5;124m\"\u001b[39m\u001b[38;5;124mtest.csv\u001b[39m\u001b[38;5;124m\"\u001b[39m \u001b[38;5;66;03m# new file\u001b[39;00m\n",
      "File \u001b[0;32m~/anaconda3/lib/python3.11/site-packages/selenium/webdriver/chrome/webdriver.py:49\u001b[0m, in \u001b[0;36mWebDriver.__init__\u001b[0;34m(self, options, service, keep_alive)\u001b[0m\n\u001b[1;32m     45\u001b[0m \u001b[38;5;28mself\u001b[39m\u001b[38;5;241m.\u001b[39mkeep_alive \u001b[38;5;241m=\u001b[39m keep_alive\n\u001b[1;32m     47\u001b[0m \u001b[38;5;28mself\u001b[39m\u001b[38;5;241m.\u001b[39mservice\u001b[38;5;241m.\u001b[39mpath \u001b[38;5;241m=\u001b[39m DriverFinder\u001b[38;5;241m.\u001b[39mget_path(\u001b[38;5;28mself\u001b[39m\u001b[38;5;241m.\u001b[39mservice, \u001b[38;5;28mself\u001b[39m\u001b[38;5;241m.\u001b[39moptions)\n\u001b[0;32m---> 49\u001b[0m \u001b[38;5;28msuper\u001b[39m()\u001b[38;5;241m.\u001b[39m\u001b[38;5;21m__init__\u001b[39m(\n\u001b[1;32m     50\u001b[0m     DesiredCapabilities\u001b[38;5;241m.\u001b[39mCHROME[\u001b[38;5;124m\"\u001b[39m\u001b[38;5;124mbrowserName\u001b[39m\u001b[38;5;124m\"\u001b[39m],\n\u001b[1;32m     51\u001b[0m     \u001b[38;5;124m\"\u001b[39m\u001b[38;5;124mgoog\u001b[39m\u001b[38;5;124m\"\u001b[39m,\n\u001b[1;32m     52\u001b[0m     \u001b[38;5;28mself\u001b[39m\u001b[38;5;241m.\u001b[39moptions,\n\u001b[1;32m     53\u001b[0m     \u001b[38;5;28mself\u001b[39m\u001b[38;5;241m.\u001b[39mservice,\n\u001b[1;32m     54\u001b[0m     \u001b[38;5;28mself\u001b[39m\u001b[38;5;241m.\u001b[39mkeep_alive,\n\u001b[1;32m     55\u001b[0m )\n",
      "File \u001b[0;32m~/anaconda3/lib/python3.11/site-packages/selenium/webdriver/chromium/webdriver.py:54\u001b[0m, in \u001b[0;36mChromiumDriver.__init__\u001b[0;34m(self, browser_name, vendor_prefix, options, service, keep_alive)\u001b[0m\n\u001b[1;32m     51\u001b[0m \u001b[38;5;28mself\u001b[39m\u001b[38;5;241m.\u001b[39mservice\u001b[38;5;241m.\u001b[39mstart()\n\u001b[1;32m     53\u001b[0m \u001b[38;5;28;01mtry\u001b[39;00m:\n\u001b[0;32m---> 54\u001b[0m     \u001b[38;5;28msuper\u001b[39m()\u001b[38;5;241m.\u001b[39m\u001b[38;5;21m__init__\u001b[39m(\n\u001b[1;32m     55\u001b[0m         command_executor\u001b[38;5;241m=\u001b[39mChromiumRemoteConnection(\n\u001b[1;32m     56\u001b[0m             remote_server_addr\u001b[38;5;241m=\u001b[39m\u001b[38;5;28mself\u001b[39m\u001b[38;5;241m.\u001b[39mservice\u001b[38;5;241m.\u001b[39mservice_url,\n\u001b[1;32m     57\u001b[0m             browser_name\u001b[38;5;241m=\u001b[39mbrowser_name,\n\u001b[1;32m     58\u001b[0m             vendor_prefix\u001b[38;5;241m=\u001b[39mvendor_prefix,\n\u001b[1;32m     59\u001b[0m             keep_alive\u001b[38;5;241m=\u001b[39mkeep_alive,\n\u001b[1;32m     60\u001b[0m             ignore_proxy\u001b[38;5;241m=\u001b[39m\u001b[38;5;28mself\u001b[39m\u001b[38;5;241m.\u001b[39moptions\u001b[38;5;241m.\u001b[39m_ignore_local_proxy,\n\u001b[1;32m     61\u001b[0m         ),\n\u001b[1;32m     62\u001b[0m         options\u001b[38;5;241m=\u001b[39m\u001b[38;5;28mself\u001b[39m\u001b[38;5;241m.\u001b[39moptions,\n\u001b[1;32m     63\u001b[0m     )\n\u001b[1;32m     64\u001b[0m \u001b[38;5;28;01mexcept\u001b[39;00m \u001b[38;5;167;01mException\u001b[39;00m:\n\u001b[1;32m     65\u001b[0m     \u001b[38;5;28mself\u001b[39m\u001b[38;5;241m.\u001b[39mquit()\n",
      "File \u001b[0;32m~/anaconda3/lib/python3.11/site-packages/selenium/webdriver/remote/webdriver.py:206\u001b[0m, in \u001b[0;36mWebDriver.__init__\u001b[0;34m(self, command_executor, keep_alive, file_detector, options)\u001b[0m\n\u001b[1;32m    204\u001b[0m \u001b[38;5;28mself\u001b[39m\u001b[38;5;241m.\u001b[39m_authenticator_id \u001b[38;5;241m=\u001b[39m \u001b[38;5;28;01mNone\u001b[39;00m\n\u001b[1;32m    205\u001b[0m \u001b[38;5;28mself\u001b[39m\u001b[38;5;241m.\u001b[39mstart_client()\n\u001b[0;32m--> 206\u001b[0m \u001b[38;5;28mself\u001b[39m\u001b[38;5;241m.\u001b[39mstart_session(capabilities)\n",
      "File \u001b[0;32m~/anaconda3/lib/python3.11/site-packages/selenium/webdriver/remote/webdriver.py:291\u001b[0m, in \u001b[0;36mWebDriver.start_session\u001b[0;34m(self, capabilities)\u001b[0m\n\u001b[1;32m    283\u001b[0m \u001b[38;5;250m\u001b[39m\u001b[38;5;124;03m\"\"\"Creates a new session with the desired capabilities.\u001b[39;00m\n\u001b[1;32m    284\u001b[0m \n\u001b[1;32m    285\u001b[0m \u001b[38;5;124;03m:Args:\u001b[39;00m\n\u001b[1;32m    286\u001b[0m \u001b[38;5;124;03m - capabilities - a capabilities dict to start the session with.\u001b[39;00m\n\u001b[1;32m    287\u001b[0m \u001b[38;5;124;03m - browser_profile - A selenium.webdriver.firefox.firefox_profile.FirefoxProfile object. Only used if Firefox is requested.\u001b[39;00m\n\u001b[1;32m    288\u001b[0m \u001b[38;5;124;03m\"\"\"\u001b[39;00m\n\u001b[1;32m    290\u001b[0m caps \u001b[38;5;241m=\u001b[39m _create_caps(capabilities)\n\u001b[0;32m--> 291\u001b[0m response \u001b[38;5;241m=\u001b[39m \u001b[38;5;28mself\u001b[39m\u001b[38;5;241m.\u001b[39mexecute(Command\u001b[38;5;241m.\u001b[39mNEW_SESSION, caps)[\u001b[38;5;124m\"\u001b[39m\u001b[38;5;124mvalue\u001b[39m\u001b[38;5;124m\"\u001b[39m]\n\u001b[1;32m    292\u001b[0m \u001b[38;5;28mself\u001b[39m\u001b[38;5;241m.\u001b[39msession_id \u001b[38;5;241m=\u001b[39m response\u001b[38;5;241m.\u001b[39mget(\u001b[38;5;124m\"\u001b[39m\u001b[38;5;124msessionId\u001b[39m\u001b[38;5;124m\"\u001b[39m)\n\u001b[1;32m    293\u001b[0m \u001b[38;5;28mself\u001b[39m\u001b[38;5;241m.\u001b[39mcaps \u001b[38;5;241m=\u001b[39m response\u001b[38;5;241m.\u001b[39mget(\u001b[38;5;124m\"\u001b[39m\u001b[38;5;124mcapabilities\u001b[39m\u001b[38;5;124m\"\u001b[39m)\n",
      "File \u001b[0;32m~/anaconda3/lib/python3.11/site-packages/selenium/webdriver/remote/webdriver.py:346\u001b[0m, in \u001b[0;36mWebDriver.execute\u001b[0;34m(self, driver_command, params)\u001b[0m\n\u001b[1;32m    344\u001b[0m response \u001b[38;5;241m=\u001b[39m \u001b[38;5;28mself\u001b[39m\u001b[38;5;241m.\u001b[39mcommand_executor\u001b[38;5;241m.\u001b[39mexecute(driver_command, params)\n\u001b[1;32m    345\u001b[0m \u001b[38;5;28;01mif\u001b[39;00m response:\n\u001b[0;32m--> 346\u001b[0m     \u001b[38;5;28mself\u001b[39m\u001b[38;5;241m.\u001b[39merror_handler\u001b[38;5;241m.\u001b[39mcheck_response(response)\n\u001b[1;32m    347\u001b[0m     response[\u001b[38;5;124m\"\u001b[39m\u001b[38;5;124mvalue\u001b[39m\u001b[38;5;124m\"\u001b[39m] \u001b[38;5;241m=\u001b[39m \u001b[38;5;28mself\u001b[39m\u001b[38;5;241m.\u001b[39m_unwrap_value(response\u001b[38;5;241m.\u001b[39mget(\u001b[38;5;124m\"\u001b[39m\u001b[38;5;124mvalue\u001b[39m\u001b[38;5;124m\"\u001b[39m, \u001b[38;5;28;01mNone\u001b[39;00m))\n\u001b[1;32m    348\u001b[0m     \u001b[38;5;28;01mreturn\u001b[39;00m response\n",
      "File \u001b[0;32m~/anaconda3/lib/python3.11/site-packages/selenium/webdriver/remote/errorhandler.py:245\u001b[0m, in \u001b[0;36mErrorHandler.check_response\u001b[0;34m(self, response)\u001b[0m\n\u001b[1;32m    243\u001b[0m         alert_text \u001b[38;5;241m=\u001b[39m value[\u001b[38;5;124m\"\u001b[39m\u001b[38;5;124malert\u001b[39m\u001b[38;5;124m\"\u001b[39m]\u001b[38;5;241m.\u001b[39mget(\u001b[38;5;124m\"\u001b[39m\u001b[38;5;124mtext\u001b[39m\u001b[38;5;124m\"\u001b[39m)\n\u001b[1;32m    244\u001b[0m     \u001b[38;5;28;01mraise\u001b[39;00m exception_class(message, screen, stacktrace, alert_text)  \u001b[38;5;66;03m# type: ignore[call-arg]  # mypy is not smart enough here\u001b[39;00m\n\u001b[0;32m--> 245\u001b[0m \u001b[38;5;28;01mraise\u001b[39;00m exception_class(message, screen, stacktrace)\n",
      "\u001b[0;31mSessionNotCreatedException\u001b[0m: Message: session not created: This version of ChromeDriver only supports Chrome version 114\nCurrent browser version is 116.0.5845.110 with binary path /Applications/Google Chrome.app/Contents/MacOS/Google Chrome\nStacktrace:\n0   chromedriver                        0x00000001004a7f48 chromedriver + 4226888\n1   chromedriver                        0x00000001004a04f4 chromedriver + 4195572\n2   chromedriver                        0x00000001000e4d68 chromedriver + 281960\n3   chromedriver                        0x0000000100110bac chromedriver + 461740\n4   chromedriver                        0x000000010010cfd8 chromedriver + 446424\n5   chromedriver                        0x000000010010a150 chromedriver + 434512\n6   chromedriver                        0x000000010014793c chromedriver + 686396\n7   chromedriver                        0x0000000100147164 chromedriver + 684388\n8   chromedriver                        0x0000000100113f1c chromedriver + 474908\n9   chromedriver                        0x0000000100114ef4 chromedriver + 478964\n10  chromedriver                        0x000000010046959c chromedriver + 3970460\n11  chromedriver                        0x000000010046d6f0 chromedriver + 3987184\n12  chromedriver                        0x00000001004735b4 chromedriver + 4011444\n13  chromedriver                        0x000000010046e2fc chromedriver + 3990268\n14  chromedriver                        0x00000001004461c0 chromedriver + 3826112\n15  chromedriver                        0x000000010048a088 chromedriver + 4104328\n16  chromedriver                        0x000000010048a1e0 chromedriver + 4104672\n17  chromedriver                        0x0000000100499f28 chromedriver + 4169512\n18  libsystem_pthread.dylib             0x0000000185dfffa8 _pthread_start + 148\n19  libsystem_pthread.dylib             0x0000000185dfada0 thread_start + 8\n"
     ]
    }
   ],
   "source": [
    "from selenium import webdriver\n",
    "from selenium.webdriver.common.by import By\n",
    "from selenium.common.exceptions import NoSuchElementException\n",
    "import csv\n",
    "import re\n",
    "\n",
    "chrome_options = webdriver.ChromeOptions() \n",
    "chrome_options.add_argument(\"--blink-settings=imagesEnabled=false\") # disabling images to improve run time \n",
    "chrome_options.add_argument('--headless')  # Enable headless mode\n",
    "chrome_options.add_argument('--disable-gpu')  # Disable GPU acceleration in headless mode (optional)\n",
    "driver = webdriver.Chrome(options=chrome_options)\n",
    "\n",
    "\n",
    "\n",
    "fields = [\"Link\", \"Title\", \"Year\", \"Rating\"] # creating data columns\n",
    "filename = \"test.csv\" # new file\n",
    "# creating lists \n",
    "rows = []\n",
    "links = []\n",
    "titles_temp = [] #temporary container for movie info \n",
    "titles = []\n",
    "year = []\n",
    "rating = []\n",
    "errors = []\n",
    "synopsis = []\n",
    "\n",
    "for i in range(1,1):\n",
    "    url = f\"https://letterboxd.com/films/popular/page/{i}/\"\n",
    "    driver.get(url)\n",
    "    try:\n",
    "        #movies = driver.find_elements(By.XPATH, \"//*[@id='films-browser-list-container']/ul/li\") # container of all movies on page\n",
    "        # i put by css selector because it is supposed to be faster\n",
    "        movies = driver.find_elements(By.CSS_SELECTOR, \"#films-browser-list-container ul li\")\n",
    "        for movie in movies: # iterate through movies \n",
    "            movie_info = movie.find_element(By.TAG_NAME, \"a\").get_attribute('data-original-title')\n",
    "            if movie_info.find(\"(\") == -1 or movie_info[-1].isdigit() == False:\n",
    "                continue\n",
    "            titles_temp.append(movie_info) # movie info\n",
    "            link = movie.find_element(By.TAG_NAME, \"a\").get_attribute('href')\n",
    "            links.append(link) # link\n",
    "\n",
    "    except: #print page number of where error occurs\n",
    "        errors.append(i)\n",
    "        continue\n",
    "for i in errors:\n",
    "    url = f\"https://letterboxd.com/films/popular/page/{i}/\"\n",
    "    driver.get(url)\n",
    "    try:\n",
    "        #movies = driver.find_elements(By.XPATH, \"//*[@id='films-browser-list-container']/ul/li\") # container of all movies on page\n",
    "        # i put by css selector because it is supposed to be faster\n",
    "        movies = driver.find_elements(By.CSS_SELECTOR, \"#films-browser-list-container ul li\")\n",
    "        for movie in movies: # iterate through movies \n",
    "            \n",
    "            movie_info = movie.find_element(By.TAG_NAME, \"a\").get_attribute('data-original-title')\n",
    "            if movie_info.find(\"(\") == -1 or movie_info[-1].isdigit() == False:\n",
    "                continue\n",
    "            titles_temp.append(movie_info) # movie info\n",
    "            link = movie.find_element(By.TAG_NAME, \"a\").get_attribute('href')\n",
    "            links.append(link) # link\n",
    "            \n",
    "    except: #print page number of where error occurs\n",
    "        print(\"page: \"+str(i))\n",
    "        continue\n",
    "\n",
    "for film in titles_temp: #iterate through movie info for each one\n",
    "    try:\n",
    "    # append separate features of the movie info \n",
    "        titles.append(film[:-11].strip()) \n",
    "        year.append(film[-10:-6].strip())\n",
    "        rating.append(film[-4:].strip())\n",
    "    # print movie info when there's an error to track it \n",
    "    except IndexError:\n",
    "        print(new_list)\n",
    "        print(film)\n",
    "        continue\n",
    "for i in range(len(titles)-1): \n",
    "    try:\n",
    "        rows.append([links[i], titles[i], year[i], rating[i]]) # create rows of csv \n",
    "    except IndexError:\n",
    "        print(i) # print index where error occurs \n",
    "with open(filename, 'w') as csvfile:\n",
    "    csvwriter = csv.writer(csvfile)\n",
    "    csvwriter.writerow(fields) \n",
    "    csvwriter.writerows(rows)\n",
    "\n",
    "driver.quit()\n",
    "print(\"Done\")\n",
    "# done message is because you dont see the webscraping in action in headless mode\n",
    "# 500 pages should take rougly 20ish minutes "
   ]
  },
  {
   "cell_type": "code",
   "execution_count": 1,
   "id": "686fafc8-4ff6-47a6-bd0c-37abc03fc3ce",
   "metadata": {
    "tags": []
   },
   "outputs": [
    {
     "name": "stdout",
     "output_type": "stream",
     "text": [
      "Done\n"
     ]
    }
   ],
   "source": [
    "from bs4 import BeautifulSoup\n",
    "import lxml\n",
    "import requests\n",
    "import requests_cache\n",
    "import csv\n",
    "import re\n",
    "import pandas as pd\n",
    "import cchardet as chardet\n",
    "from multiprocessing import Pool\n",
    "\n",
    "requests_cache.install_cache('my_cache', expire_after=86400)\n",
    "requests_session = requests.Session()\n",
    "\n",
    "df = pd.read_csv('Letterboxd_scrape_first500.csv')\n",
    "synopsis = []\n",
    "for index,link in enumerate(df[\"Link\"]):\n",
    "    try:\n",
    "        \n",
    "        source = requests_session.get(link)\n",
    "        soup = BeautifulSoup(source.content, 'lxml')\n",
    "        main = soup.find(\"div\", class_ = \"content-wrap\")\n",
    "        main = main.find(\"div\", class_ = \"review body-text -prose -hero prettify\")\n",
    "        synop = main.find(\"div\", class_ = 'truncate').p.text\n",
    "        synopsis.append(synop)\n",
    "    except:\n",
    "        synopsis.append(\"\")\n",
    "        continue\n",
    "df['Synopsis'] = pd.Series(synopsis)\n",
    "df.to_csv('Letterboxd_scrape_first500_v2.csv')  \n",
    "print(\"Done\")"
   ]
  },
  {
   "cell_type": "code",
   "execution_count": null,
   "id": "f2885662-0675-41ca-9767-467d7cc6765e",
   "metadata": {},
   "outputs": [],
   "source": []
  },
  {
   "cell_type": "code",
   "execution_count": null,
   "id": "74361d1a-f939-497f-bfd1-655456b2e7a8",
   "metadata": {},
   "outputs": [],
   "source": []
  }
 ],
 "metadata": {
  "kernelspec": {
   "display_name": "Python 3 (ipykernel)",
   "language": "python",
   "name": "python3"
  },
  "language_info": {
   "codemirror_mode": {
    "name": "ipython",
    "version": 3
   },
   "file_extension": ".py",
   "mimetype": "text/x-python",
   "name": "python",
   "nbconvert_exporter": "python",
   "pygments_lexer": "ipython3",
   "version": "3.11.3"
  }
 },
 "nbformat": 4,
 "nbformat_minor": 5
}
