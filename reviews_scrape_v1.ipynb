{
 "cells": [
  {
   "cell_type": "code",
   "execution_count": 40,
   "id": "39bd6e07-c90e-4070-a363-d64fa169adcb",
   "metadata": {
    "tags": []
   },
   "outputs": [
    {
     "name": "stdout",
     "output_type": "stream",
     "text": [
      "Update: Now in video formThere is a house on a hill, and there are people in it. And they're nice, but not really. There is a garden, and there they get a lot of sunlight. And it is nice, and they get to sleep there sometimes.There is a house underground, and there are people in it. And they're the first to tell you that they're not very nice: they're con-men, grifters, forgers and imposters. They sit among stink…\n"
     ]
    },
    {
     "ename": "InvalidSessionIdException",
     "evalue": "Message: invalid session id\nStacktrace:\n0   chromedriver                        0x0000000104697f48 chromedriver + 4226888\n1   chromedriver                        0x00000001046904f4 chromedriver + 4195572\n2   chromedriver                        0x00000001042d4be8 chromedriver + 281576\n3   chromedriver                        0x0000000104303b70 chromedriver + 473968\n4   chromedriver                        0x0000000104304ef4 chromedriver + 478964\n5   chromedriver                        0x000000010465959c chromedriver + 3970460\n6   chromedriver                        0x000000010465d6f0 chromedriver + 3987184\n7   chromedriver                        0x00000001046635b4 chromedriver + 4011444\n8   chromedriver                        0x000000010465e2fc chromedriver + 3990268\n9   chromedriver                        0x00000001046361c0 chromedriver + 3826112\n10  chromedriver                        0x000000010467a088 chromedriver + 4104328\n11  chromedriver                        0x000000010467a1e0 chromedriver + 4104672\n12  chromedriver                        0x0000000104689f28 chromedriver + 4169512\n13  libsystem_pthread.dylib             0x00000001af3d606c _pthread_start + 148\n14  libsystem_pthread.dylib             0x00000001af3d0e2c thread_start + 8\n",
     "output_type": "error",
     "traceback": [
      "\u001b[0;31m---------------------------------------------------------------------------\u001b[0m",
      "\u001b[0;31mInvalidSessionIdException\u001b[0m                 Traceback (most recent call last)",
      "Cell \u001b[0;32mIn[40], line 51\u001b[0m\n\u001b[1;32m     42\u001b[0m     driver\u001b[38;5;241m.\u001b[39mexecute_script(\u001b[38;5;124m\"\u001b[39m\u001b[38;5;124marguments[0].click();\u001b[39m\u001b[38;5;124m\"\u001b[39m, more_button)\n\u001b[1;32m     44\u001b[0m     \u001b[38;5;66;03m#wait=WebDriverWait(driver,20)\u001b[39;00m\n\u001b[1;32m     45\u001b[0m     \u001b[38;5;66;03m#more_button= wait.until(EC.element_to_be_clickable((By.XPATH, f\"//*[@id='content']/div/div/section/section/ul/li[{count}]/div/div[2]/div/p/a\")))\u001b[39;00m\n\u001b[1;32m     46\u001b[0m     \u001b[38;5;66;03m#more_button.click()\u001b[39;00m\n\u001b[0;32m   (...)\u001b[0m\n\u001b[1;32m     49\u001b[0m     \u001b[38;5;66;03m#more_button.click()\u001b[39;00m\n\u001b[1;32m     50\u001b[0m     \u001b[38;5;66;03m#review = driver.find_element(By.CSS_SELECTOR, f\"#content ul li:nth-child({count}) .body-text.-prose.collapsible-text\")\u001b[39;00m\n\u001b[0;32m---> 51\u001b[0m driver\u001b[38;5;241m.\u001b[39mclose()\n\u001b[1;32m     52\u001b[0m review \u001b[38;5;241m=\u001b[39m review\u001b[38;5;241m.\u001b[39mtext\u001b[38;5;241m.\u001b[39mstrip()\n\u001b[1;32m     53\u001b[0m count \u001b[38;5;241m+\u001b[39m\u001b[38;5;241m=\u001b[39m \u001b[38;5;241m1\u001b[39m\n",
      "File \u001b[0;32m~/anaconda3/lib/python3.11/site-packages/selenium/webdriver/remote/webdriver.py:457\u001b[0m, in \u001b[0;36mWebDriver.close\u001b[0;34m(self)\u001b[0m\n\u001b[1;32m    449\u001b[0m \u001b[38;5;28;01mdef\u001b[39;00m \u001b[38;5;21mclose\u001b[39m(\u001b[38;5;28mself\u001b[39m) \u001b[38;5;241m-\u001b[39m\u001b[38;5;241m>\u001b[39m \u001b[38;5;28;01mNone\u001b[39;00m:\n\u001b[1;32m    450\u001b[0m \u001b[38;5;250m    \u001b[39m\u001b[38;5;124;03m\"\"\"Closes the current window.\u001b[39;00m\n\u001b[1;32m    451\u001b[0m \n\u001b[1;32m    452\u001b[0m \u001b[38;5;124;03m    :Usage:\u001b[39;00m\n\u001b[0;32m   (...)\u001b[0m\n\u001b[1;32m    455\u001b[0m \u001b[38;5;124;03m            driver.close()\u001b[39;00m\n\u001b[1;32m    456\u001b[0m \u001b[38;5;124;03m    \"\"\"\u001b[39;00m\n\u001b[0;32m--> 457\u001b[0m     \u001b[38;5;28mself\u001b[39m\u001b[38;5;241m.\u001b[39mexecute(Command\u001b[38;5;241m.\u001b[39mCLOSE)\n",
      "File \u001b[0;32m~/anaconda3/lib/python3.11/site-packages/selenium/webdriver/remote/webdriver.py:346\u001b[0m, in \u001b[0;36mWebDriver.execute\u001b[0;34m(self, driver_command, params)\u001b[0m\n\u001b[1;32m    344\u001b[0m response \u001b[38;5;241m=\u001b[39m \u001b[38;5;28mself\u001b[39m\u001b[38;5;241m.\u001b[39mcommand_executor\u001b[38;5;241m.\u001b[39mexecute(driver_command, params)\n\u001b[1;32m    345\u001b[0m \u001b[38;5;28;01mif\u001b[39;00m response:\n\u001b[0;32m--> 346\u001b[0m     \u001b[38;5;28mself\u001b[39m\u001b[38;5;241m.\u001b[39merror_handler\u001b[38;5;241m.\u001b[39mcheck_response(response)\n\u001b[1;32m    347\u001b[0m     response[\u001b[38;5;124m\"\u001b[39m\u001b[38;5;124mvalue\u001b[39m\u001b[38;5;124m\"\u001b[39m] \u001b[38;5;241m=\u001b[39m \u001b[38;5;28mself\u001b[39m\u001b[38;5;241m.\u001b[39m_unwrap_value(response\u001b[38;5;241m.\u001b[39mget(\u001b[38;5;124m\"\u001b[39m\u001b[38;5;124mvalue\u001b[39m\u001b[38;5;124m\"\u001b[39m, \u001b[38;5;28;01mNone\u001b[39;00m))\n\u001b[1;32m    348\u001b[0m     \u001b[38;5;28;01mreturn\u001b[39;00m response\n",
      "File \u001b[0;32m~/anaconda3/lib/python3.11/site-packages/selenium/webdriver/remote/errorhandler.py:245\u001b[0m, in \u001b[0;36mErrorHandler.check_response\u001b[0;34m(self, response)\u001b[0m\n\u001b[1;32m    243\u001b[0m         alert_text \u001b[38;5;241m=\u001b[39m value[\u001b[38;5;124m\"\u001b[39m\u001b[38;5;124malert\u001b[39m\u001b[38;5;124m\"\u001b[39m]\u001b[38;5;241m.\u001b[39mget(\u001b[38;5;124m\"\u001b[39m\u001b[38;5;124mtext\u001b[39m\u001b[38;5;124m\"\u001b[39m)\n\u001b[1;32m    244\u001b[0m     \u001b[38;5;28;01mraise\u001b[39;00m exception_class(message, screen, stacktrace, alert_text)  \u001b[38;5;66;03m# type: ignore[call-arg]  # mypy is not smart enough here\u001b[39;00m\n\u001b[0;32m--> 245\u001b[0m \u001b[38;5;28;01mraise\u001b[39;00m exception_class(message, screen, stacktrace)\n",
      "\u001b[0;31mInvalidSessionIdException\u001b[0m: Message: invalid session id\nStacktrace:\n0   chromedriver                        0x0000000104697f48 chromedriver + 4226888\n1   chromedriver                        0x00000001046904f4 chromedriver + 4195572\n2   chromedriver                        0x00000001042d4be8 chromedriver + 281576\n3   chromedriver                        0x0000000104303b70 chromedriver + 473968\n4   chromedriver                        0x0000000104304ef4 chromedriver + 478964\n5   chromedriver                        0x000000010465959c chromedriver + 3970460\n6   chromedriver                        0x000000010465d6f0 chromedriver + 3987184\n7   chromedriver                        0x00000001046635b4 chromedriver + 4011444\n8   chromedriver                        0x000000010465e2fc chromedriver + 3990268\n9   chromedriver                        0x00000001046361c0 chromedriver + 3826112\n10  chromedriver                        0x000000010467a088 chromedriver + 4104328\n11  chromedriver                        0x000000010467a1e0 chromedriver + 4104672\n12  chromedriver                        0x0000000104689f28 chromedriver + 4169512\n13  libsystem_pthread.dylib             0x00000001af3d606c _pthread_start + 148\n14  libsystem_pthread.dylib             0x00000001af3d0e2c thread_start + 8\n"
     ]
    }
   ],
   "source": [
    "from bs4 import BeautifulSoup\n",
    "import lxml\n",
    "import requests\n",
    "from selenium import webdriver\n",
    "from selenium.webdriver.common.by import By\n",
    "from selenium.webdriver.support.ui import WebDriverWait       \n",
    "from selenium.webdriver.support import expected_conditions as EC\n",
    "import csv\n",
    "import re\n",
    "\n",
    "chrome_options = webdriver.ChromeOptions() \n",
    "chrome_options.add_argument(\"--blink-settings=imagesEnabled=false\") # disabling images to improve run time \n",
    "#chrome_options.add_argument('--headless')  # Enable headless mode\n",
    "#chrome_options.add_argument('--disable-gpu')  # Disable GPU acceleration in headless mode (optional)\n",
    "driver = webdriver.Chrome(options=chrome_options)\n",
    "\n",
    "url = \"https://letterboxd.com/film/parasite-2019/reviews/by/activity/page/1/\"\n",
    "\n",
    "source = requests.get(url).text\n",
    "soup = BeautifulSoup(source, 'lxml')\n",
    "divs = soup.find_all(\"div\", class_ = 'body-text -prose collapsible-text') # these contain the reviews\n",
    "\n",
    "count = 1\n",
    "\n",
    "for i in divs: #iterate through reviews of first page,sorted by activit, 12 for each page \n",
    "    \n",
    "    review = i.p\n",
    "    if review.text == \"This review may contain spoilers. I can handle the truth.\": # skipping reviews with spoilers\n",
    "        # this can easily be found, the paths to it are kinda confusing tho \n",
    "        # you have to go back into the original div without .p and find the hidden tag\n",
    "        review = i.find(\"div\", class_ = \"hidden-spoilers expanded-text\")\n",
    "        \n",
    "    if review.text.find(\"…\") != -1: # skipping reviews that are too long \n",
    "# note: i notice that reviews that are too long have this unique ... thing that you can copy and paste\n",
    "# it detects it easily so we can weed it out but i believe we will have to use selenium for this part \n",
    "# hopefully we will only use selenium for this part as to minimize run time \n",
    "# we should use find by CSS selector for this to minimize time hopefully, \n",
    "# shouldn't be too hard u just have to look up format\n",
    "        driver.get(url)\n",
    "        \n",
    "        more_button = driver.find_element(By.XPATH, f\"//*[@id='content']/div/div/section/section/ul/li[5]/div/div[2]/div/p/a\")\n",
    "        driver.execute_script(\"arguments[0].click();\", more_button)\n",
    "        \n",
    "        #wait=WebDriverWait(driver,20)\n",
    "        #more_button= wait.until(EC.element_to_be_clickable((By.XPATH, f\"//*[@id='content']/div/div/section/section/ul/li[{count}]/div/div[2]/div/p/a\")))\n",
    "        #more_button.click()\n",
    "        \n",
    "        #WebDriverWait(driver, 20).until(EC.element_to_be_clickable((By.XPATH,f\"//*[@id='content']/ul/li[{count}]/p/a\"))).click()\n",
    "        #more_button.click()\n",
    "        #review = driver.find_element(By.CSS_SELECTOR, f\"#content ul li:nth-child({count}) .body-text.-prose.collapsible-text\")\n",
    "    driver.close()\n",
    "    review = review.text.strip()\n",
    "    count += 1\n",
    "    print(review)\n",
    "# I am thinking that for implementation, we can do a similar for loop like this. we just need to put selenium \n",
    "# maybe write as we go? not sure how we want to do the csv part \n",
    "# we also need to find the best way to attatch the title and year to it \n",
    "#i'm thinking the obvious way is to match the links? however we must remove the review portion of the link \n",
    "# now that i think of it i think we need a new csv for sure, with a column for each movie or each row?\n",
    "# probably each row if that's easier to write... now how many reviews do we want?\n",
    "# because we have so many movies, gathering reviews will be x times time consuming \n",
    "# we also need to consider that less popular movies will have less pages... probably needs a try except bit \n",
    "# do we want to measure reviews in proportion to popularity?\n",
    "# i mean, for parasite there are hundreds of pages, for terror 2000, there are not even 50 \n",
    "# also these reviews are funny\n",
    "# much to think about... dot dot dot \n",
    "\n"
   ]
  },
  {
   "cell_type": "code",
   "execution_count": 71,
   "id": "cee79f25-320d-4502-acc6-73fe8af06b43",
   "metadata": {
    "tags": []
   },
   "outputs": [
    {
     "name": "stdout",
     "output_type": "stream",
     "text": [
      "One detail I noticed this time around is that Min and Mr. Park both react the same way to being asked if they like or love the people that they're romantically involved with– by laughing. And in Mr. Park's case, giving a sarcastic answer that undercuts his saying 'yes'. Min and Mr. Park are both seen as powerful figures deserving of respect, and the way they dismissively respond to an earnest question about whether they truly care for the people… more\n"
     ]
    }
   ],
   "source": [
    "from bs4 import BeautifulSoup\n",
    "import lxml\n",
    "import requests\n",
    "from selenium import webdriver\n",
    "from selenium.webdriver.common.by import By\n",
    "from selenium.webdriver.support.ui import WebDriverWait       \n",
    "from selenium.webdriver.support import expected_conditions as EC\n",
    "from selenium.webdriver.common.action_chains import ActionChains\n",
    "import csv\n",
    "import re\n",
    "\n",
    "chrome_options = webdriver.ChromeOptions() \n",
    "chrome_options.add_argument(\"--blink-settings=imagesEnabled=false\") # disabling images to improve run time \n",
    "chrome_options.add_argument('--headless')  # Enable headless mode\n",
    "chrome_options.add_argument('--disable-gpu')  # Disable GPU acceleration in headless mode (optional)\n",
    "driver = webdriver.Chrome(options=chrome_options)\n",
    "action = ActionChains(driver)\n",
    "\n",
    "url = \"https://letterboxd.com/film/parasite-2019/reviews/by/activity/page/1/\"\n",
    "\n",
    "driver.get(url)\n",
    "wait=WebDriverWait(driver,5)\n",
    "more_button= wait.until(EC.presence_of_element_located((By.XPATH, \"//*[@id='content']/div/div/section/section/ul/li[5]/div/div[2]/div/p/a\")))\n",
    "\n",
    "#ActionChains(driver).move_to_element(wait.until(EC.element_to_be_clickable((By.XPATH, \"//*[@id='content']/div/div/section/section/ul/li[5]/div/div[2]\")))).perform()\n",
    "ActionChains(driver).move_to_element(more_button).click(more_button).perform()\n",
    "review = driver.find_element(By.XPATH, \"//*[@id='content']/div/div/section/section/ul/li[5]/div/div[2]/div/p\").text\n",
    "#more_button = driver.find_element(By.XPATH, \"//*[@id='content']/div/div/section/section/ul/li[5]/div/div[2]\")\n",
    "#driver.execute_script(\"arguments[0].click();\", more_button)\n",
    "#wait=WebDriverWait(driver,5)\n",
    "#more_button= wait.until(EC.element_to_be_clickable((By.XPATH, \"//*[@id='content']/div/div/section/section/ul/li[5]/div/div[2]/div\")))\n",
    "\n",
    "#more_button.click()\n",
    "\n",
    "#review = driver.find_element(By.CSS_SELECTOR, f\"#content ul li:nth-child(5) .body-text.-prose.collapsible-text\").text\n",
    "\n",
    "\n",
    "driver.close()\n",
    "print(review)"
   ]
  },
  {
   "cell_type": "code",
   "execution_count": null,
   "id": "4b095804-7694-4e6d-af3d-1ec9a05f106b",
   "metadata": {},
   "outputs": [],
   "source": []
  },
  {
   "cell_type": "code",
   "execution_count": null,
   "id": "da085cb9-f42e-4793-a669-e62215bea209",
   "metadata": {},
   "outputs": [],
   "source": []
  },
  {
   "cell_type": "code",
   "execution_count": null,
   "id": "df505ae2-445c-44ef-a101-8a8c93c7fb8d",
   "metadata": {},
   "outputs": [],
   "source": []
  }
 ],
 "metadata": {
  "kernelspec": {
   "display_name": "Python 3 (ipykernel)",
   "language": "python",
   "name": "python3"
  },
  "language_info": {
   "codemirror_mode": {
    "name": "ipython",
    "version": 3
   },
   "file_extension": ".py",
   "mimetype": "text/x-python",
   "name": "python",
   "nbconvert_exporter": "python",
   "pygments_lexer": "ipython3",
   "version": "3.11.3"
  }
 },
 "nbformat": 4,
 "nbformat_minor": 5
}
