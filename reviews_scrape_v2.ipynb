{
 "cells": [
  {
   "cell_type": "code",
   "execution_count": 4,
   "id": "39bd6e07-c90e-4070-a363-d64fa169adcb",
   "metadata": {
    "tags": []
   },
   "outputs": [
    {
     "name": "stdout",
     "output_type": "stream",
     "text": [
      "call me by your name’s cum peach walked so parasite’s killer peach could run\n",
      "Another Bong hit.\n",
      "Our expectations were high but HOLY FUCK\n",
      "a question to people who rate this 4.5: what more do you want literally what more do you want\n",
      "The bloody napkin scene....top 3 scenes of all time. Hands down.\n",
      "morse code me by your name and i'll morse code you by mine\n",
      "The tent won’t leak. It’s from America.\n",
      "Watched with a live orchestra and an introduction by Bong. It was one of my favorite experiences at a theatre, obviously.\n",
      "maybe the real parasite... was the friends we made along the way\n",
      "crazy rich asians walked, so that they could get stabbed in parasite\n"
     ]
    }
   ],
   "source": [
    "from bs4 import BeautifulSoup\n",
    "import lxml\n",
    "import requests\n",
    "from selenium import webdriver\n",
    "from selenium.webdriver.common.by import By\n",
    "from selenium.webdriver.support.ui import WebDriverWait       \n",
    "from selenium.webdriver.support import expected_conditions as EC\n",
    "import csv\n",
    "import re\n",
    "\n",
    "#chrome_options = webdriver.ChromeOptions() \n",
    "#chrome_options.add_argument(\"--blink-settings=imagesEnabled=false\") # disabling images to improve run time \n",
    "#chrome_options.add_argument('--headless')  # Enable headless mode\n",
    "#chrome_options.add_argument('--disable-gpu')  # Disable GPU acceleration in headless mode (optional)\n",
    "#driver = webdriver.Chrome(options=chrome_options)\n",
    "\n",
    "url = \"https://letterboxd.com/film/parasite-2019/reviews/by/activity/page/1/\"\n",
    "driver = webdriver.Chrome()\n",
    "\n",
    "source = requests.get(url).text\n",
    "soup = BeautifulSoup(source, 'lxml')\n",
    "divs = soup.find_all(\"div\", class_ = 'body-text -prose collapsible-text') # these contain the reviews\n",
    "\n",
    "count = 0\n",
    "\n",
    "for i in divs: #iterate through reviews of first page,sorted by activit, 12 for each page \n",
    "    count += 1\n",
    "    review = i.p\n",
    "    if review.text == \"This review may contain spoilers. I can handle the truth.\": # skipping reviews with spoilers\n",
    "        # this can easily be found, the paths to it are kinda confusing tho \n",
    "        # you have to go back into the original div without .p and find the hidden tag\n",
    "        review = i.find(\"div\", class_ = \"hidden-spoilers expanded-text\")\n",
    "        \n",
    "    if review.text.find(\"…\") != -1: # skipping reviews that are too long \n",
    "# note: i notice that reviews that are too long have this unique ... thing that you can copy and paste\n",
    "# it detects it easily so we can weed it out but i believe we will have to use selenium for this part \n",
    "# hopefully we will only use selenium for this part as to minimize run time \n",
    "# we should use find by CSS selector for this to minimize time hopefully, \n",
    "# shouldn't be too hard u just have to look up format\n",
    "        #driver.get(url)\n",
    "        #more_button = driver.find_elements(By.XPATH,f\"//*[@id='content']/ul/li[{count}]/p/a\")\n",
    "        #WebDriverWait(driver, 20).until(EC.element_to_be_clickable((By.XPATH,f\"//*[@id='content']/ul/li[{count}]/p/a\"))).click()\n",
    "        #more_button.click()\n",
    "        #review = driver.find_element(By.CSS_SELECTOR, f\"#content ul li:nth-child({count}) .body-text.-prose.collapsible-text\")\n",
    "        continue\n",
    "    review = review.text.strip()\n",
    "    print(review)\n",
    "driver.close()\n"
   ]
  },
  {
   "cell_type": "code",
   "execution_count": null,
   "id": "053939fc-a29b-46d6-89cc-0a63ea8b248c",
   "metadata": {},
   "outputs": [],
   "source": []
  },
  {
   "cell_type": "code",
   "execution_count": 1,
   "id": "282bacb2-42c1-410e-ae27-6c6ec023b15c",
   "metadata": {
    "tags": []
   },
   "outputs": [
    {
     "name": "stdout",
     "output_type": "stream",
     "text": [
      "“Dad, today I made a plan.”\n",
      "It’s absolutely fucking absurd that Song Kang-Ho did not get any Oscar attention for his role in this film. He gives the most expressive, wide-ranging performance of the year. I mean, the entire ensemble is outstanding (I think I’ve already said how terrific Cho Yeo-jeong’s comedic performance is) but Song is the emotional center of this film both in its funniest and it’s most tragic moments. Also, after five viewings (I know) of this film, it’s so fun to me which line deliveries (in a language I fully do not know) stick out to me so much. Kim Ki-taek screaming “Lady! Are you mad?!” is a strong favorite.\n",
      "I retain a dumb optimism that the Academy will wise up and give this film Best Picture, but even if they don’t, I have no doubt that it simply is the year’s best picture. Every single time I watch this film, I feel my heart breaking at the ending as if it’s the first time.\n"
     ]
    }
   ],
   "source": [
    "# we need to find a way to make this faster\n",
    "from bs4 import BeautifulSoup\n",
    "import lxml\n",
    "import requests\n",
    "from selenium import webdriver\n",
    "from selenium.webdriver.common.by import By\n",
    "from selenium.webdriver.support.ui import WebDriverWait       \n",
    "from selenium.webdriver.support import expected_conditions as EC\n",
    "import csv\n",
    "import re\n",
    "import time\n",
    "testurl = 'https://letterboxd.com/film/parasite-2019/reviews/by/activity/page/3/'\n",
    "chrome_options = webdriver.ChromeOptions() \n",
    "chrome_options.add_argument(\"--blink-settings=imagesEnabled=false\") # disabling images to improve run time \n",
    "driver = webdriver.Chrome(options=chrome_options)\n",
    "driver.get(testurl)\n",
    "testsource = requests.get(testurl).text\n",
    "testsoup = BeautifulSoup(testsource, 'lxml')\n",
    "# this gets the original review with the ... i don't do anything with this im just keeping it in case\n",
    "div = testsoup.find(\"div\", class_ = 'body-text -prose collapsible-text') \n",
    "# getting the more segment from html, very specific to each review\n",
    "\n",
    "\n",
    "driver.close()\n",
    "\n"
   ]
  },
  {
   "cell_type": "code",
   "execution_count": 44,
   "id": "d2108733-0016-4148-a6f8-208b7ce78edf",
   "metadata": {
    "tags": []
   },
   "outputs": [],
   "source": [
    "def more_review(count_li, p_tags):\n",
    "    if len(p_tags) > 1:\n",
    "        more = driver.find_element(By.CSS_SELECTOR, f\"#content > div > div > section > section > ul > li:nth-child({count_li}) > div > div.body-text.-prose.collapsible-text > div > p:nth-child({len(p_tags)}) > a\")\n",
    "        # click it (watch it open, it's so cool)\n",
    "        more.click()\n",
    "        # this is useless \n",
    "        wait = WebDriverWait(driver, 20)\n",
    "        wait.until(EC.invisibility_of_element_located((By.CSS_SELECTOR,f\"#content > div > div > section > section > ul > li:nth-child({count_li}) > div > div.body-text.-prose.collapsible-text > div > p:nth-child({len(p_tags)}) > a\")))\n",
    "        # most important line of code\n",
    "        time.sleep(1)\n",
    "        # get the review \n",
    "        review = driver.find_element(By.CSS_SELECTOR, f\"#content > div > div > section > section > ul > li:nth-child({count_li}) > div > div.body-text.-prose.collapsible-text\")\n",
    "        #print the review \n",
    "    else:\n",
    "        more = driver.find_element(By.CSS_SELECTOR, f\"#content > div > div > section > section > ul > li:nth-child({count_li}) > div > div.body-text.-prose.collapsible-text > div > p > a\")\n",
    "        more.click()\n",
    "        wait = WebDriverWait(driver, 20)\n",
    "        wait.until(EC.invisibility_of_element_located((By.CSS_SELECTOR,f\"#content > div > div > section > section > ul > li:nth-child({count_li}) > div > div.body-text.-prose.collapsible-text > div > p > a\")))\n",
    "        # most important line of code\n",
    "        time.sleep(1)\n",
    "        review = driver.find_element(By.CSS_SELECTOR, f\"#content > div > div > section > section > ul > li:nth-child({count_li}) > div > div.body-text.-prose.collapsible-text\")\n",
    "        #print the review \n",
    "    return review"
   ]
  },
  {
   "cell_type": "code",
   "execution_count": 56,
   "id": "8cd2e7f8-e830-4dc6-816b-2b1b59edcbdd",
   "metadata": {
    "tags": []
   },
   "outputs": [
    {
     "name": "stdout",
     "output_type": "stream",
     "text": [
      "Review #1\n",
      "“Dad, today I made a plan.”\n",
      "It’s absolutely fucking absurd that Song Kang-Ho did not get any Oscar attention for his role in this film. He gives the most expressive, wide-ranging performance of the year. I mean, the entire ensemble is outstanding (I think I’ve already said how terrific Cho Yeo-jeong’s comedic performance is) but Song is the emotional center of this film both in its funniest and it’s most tragic moments. Also, after five viewings (I know) of this film, it’s so fun to me which line deliveries (in a language I fully do not know) stick out to me so much. Kim Ki-taek screaming “Lady! Are you mad?!” is a strong favorite.\n",
      "I retain a dumb optimism that the Academy will wise up and give this film Best Picture, but even if they don’t, I have no doubt that it simply is the year’s best picture. Every single time I watch this film, I feel my heart breaking at the ending as if it’s the first time.\n",
      "Review #2\n",
      "Something I’ve wondered since the first viewing: toward the end when Ki-Woo mentions “the doctor who looked nothing like a doctor” and “the lawyer who looked nothing like a lawyer,” is this meant to subtly hint that everyone in this universe is faking it, not just the Kims?\n",
      "Review #3\n",
      "I saw someone on Twitter doing that annoying thing where they sneer at the idea that a movie that people love really could be as good as they say and then asking for more opinions, hoping to find just one person who says something like \"it was fine\" and then latch onto that one take as the definitive proof that there's some sort of conspiracy (?) to declare a film as great when it's actually \"just fine.\" It's a very stupid trend that seems like a thinly-veiled way to get ahead of the curve and preemptively shit on a popular movie and cast all of that movie's fans as rabid sheep who can't think for themselves, in order to present as someone having a hot take that makes you seem smarter and more with it than all those \"idiots\" who enjoyed the movie– but it alllllllways comes across as corny and embarrassingly contrarian.\n",
      "The closest thing I can find to a kernel of worth in doing that, is the conceit that if you do go into a movie thinking it's not \"as good as everyone says,\" there's a great chance that you'll truly be stunned and let yourself be overwhelmed into an experience far above what you were expecting. Sometimes it feels like there's a psychology to film, where your brain is constantly trying to fight against the preconceived notions it has about a piece of art, like a strange defense mechanism. If everyone's saying it's good, you'll have to overcorrect for that expectation and end up letting yourself down. If it's said to be bad, you're setting yourself at a low bar to be extremely impressed when they do three flips over the thing from a standing position (which is impressive, even without a bar to cross!) And maybe that's what this person was concerned with in this movie.\n",
      "People are calling this the movie of the year, a masterpiece, talking about how rich the themes and comedy are, how terrific the performances are, how great a director Bong Joon-ho is– but if you're going into the theater with that all in mind, aren't you erasing the very chance of surprise and wonder from your experience? I'd like to think that's not entirely the case, as this was the second time I'd seen it– long after the volunteer army for Bong Joon-ho & Sang Kang-ho's Oscars was formed (of which I am a proud cadet)– and the audience still seemed absolutely enthralled and rapt with the movie they were watching. And so was I! But I don't want to give the sneering contrarian crowd, or the cautious contrarian brain, any ammo by teeing it up in any special way.\n",
      "All of that said, Parasite fuckin' sucks. Enjoy! ☺️\n",
      "Review #4\n",
      "despite what mr. park might think, this movie smells so fucking good\n",
      "Review #5\n",
      "if this doesn’t win the palme d’or i’m burning the palais to the ground\n",
      "ETA WE FUCKIN DID IT BONG WON THE PALME\n",
      "Review #6\n",
      "You are not ready for this film. I shit you not. Parasite is a tour de force. The hype is true. It is really a masterpiece in its own right.\n",
      "Review #7\n",
      "yup....... this is the best movie that has ever been fucking made\n",
      "Review #8\n",
      "not to sound dramatic but that flood scene changed me\n",
      "Review #9\n",
      "I'm not the biggest fan of reading long essays on Letterboxd, and this is definitely one of those - so if you'd like to read it on Medium with some photos and headers, check it out here: link.medium.com/QdG86fMem1“This is so metaphorical!”This. This right here. Wow. I don’t wanna speak too soon, but Parasite might be among the best films of the decade. It’s the rare mix of accessible mainstream storytelling that anyone can enjoy, accompanied by plenty of…\n",
      "Review #10\n",
      "Masterfully constructed and thoroughly compelling genre piece (effortlessly transitioning between familial drama, heist movie, satirical farce, subterranean horror) about the perverse and mutating symbiotic relationship of increasingly unequal, transactional class relationships, and who can and can't afford to be oblivious about the severe, violent material/psychic toll of capitalist accumulation. (\"They say a ghost in the house brings wealth.\") I think I ultimately admired this more than I felt it, it's clever and manufactured in a way that feels shiny and surface-level more than personal but I think it works in a movie in part about how those shiny surfaces distract us from the horrifying conditions that exist in order to sustain them. The seams of this system are ripping and it feels like Bong has channeled those economic precarities, indignities and anxieties into his own Rube Goldberg microcosm that asks how anyone could be surprised by a violent destination.\n",
      "Review #11\n",
      "My hands shake as I type these words but people didn't lie when they said this is one of the year's best movies. To me, 2019 is over and Parasite has freakin’ ended it all. You know that feeling when the movie is so good that when it ends, you feel as though a large part of your self has also departed from your body and eventually left behind a void inside you? That's exactly how I felt after watching Parasite. I will be picking this out of my teeth for weeks, maybe months, or even years to come. If you think you know what's coming or what Bong Joon-ho has in store for you? Maybe think again. Probably my favorite “ghost” story out there. Best to watch with your whole family#BongHive\n",
      "\"Do you smell that?\"\n",
      "Review #12\n",
      "watched the b&w version. is it necessary? absolutely not. does it still slap? hell yeah.\n"
     ]
    }
   ],
   "source": [
    "from selenium import webdriver\n",
    "from selenium.webdriver.common.by import By\n",
    "from selenium.webdriver.support.ui import WebDriverWait       \n",
    "from selenium.webdriver.support import expected_conditions as EC\n",
    "import csv\n",
    "import re\n",
    "import time\n",
    "testurl = 'https://letterboxd.com/film/parasite-2019/reviews/by/activity/page/3/'\n",
    "chrome_options = webdriver.ChromeOptions() \n",
    "chrome_options.add_argument(\"--blink-settings=imagesEnabled=false\") # disabling images to improve run time \n",
    "driver = webdriver.Chrome(options=chrome_options)\n",
    "\n",
    "source = requests.get(testurl).text\n",
    "soup = BeautifulSoup(source, 'lxml')\n",
    "divs = soup.find_all(\"div\", class_ = 'body-text -prose collapsible-text') # these contain the reviews\n",
    "driver.get(testurl)\n",
    "\n",
    "count_li = 1\n",
    "\n",
    "\n",
    "            \n",
    "for i in divs: #iterate through reviews of first page,sorted by activit, 12 for each page \n",
    "    reviews = i.find_all(\"p\")\n",
    "    \n",
    "    if reviews[0].text == \"This review may contain spoilers. I can handle the truth.\": # skipping reviews with spoilers\n",
    "        # this can easily be found, the paths to it are kinda confusing tho \n",
    "        # you have to go back into the original div without .p and find the hidden tag\n",
    "        review = i.find(\"div\", class_ = \"hidden-spoilers expanded-text\").text\n",
    "        \n",
    "    elif reviews[-1].text.find(\"…\") != -1:\n",
    "        review = more_review(count_li, reviews).text\n",
    "    else:\n",
    "        review = \"\"\n",
    "        for j in reviews:\n",
    "            review += j.text + \"\\n\"\n",
    "    review = review.strip()\n",
    "    \n",
    "    print(\"Review #\"+str(count_li))\n",
    "    print(review)\n",
    "    count_li += 1\n",
    "driver.close()\n",
    "\n",
    "\n",
    "\n",
    "\n",
    "\n",
    "#content > div > div > section > section > ul > li:nth-child(3) > div > div.body-text.-prose.collapsible-text > div > p > a\n",
    "#content > div > div > section > section > ul > li:nth-child(10) > div > div.body-text.-prose.collapsible-text > div > p > a"
   ]
  }
 ],
 "metadata": {
  "kernelspec": {
   "display_name": "Python 3 (ipykernel)",
   "language": "python",
   "name": "python3"
  },
  "language_info": {
   "codemirror_mode": {
    "name": "ipython",
    "version": 3
   },
   "file_extension": ".py",
   "mimetype": "text/x-python",
   "name": "python",
   "nbconvert_exporter": "python",
   "pygments_lexer": "ipython3",
   "version": "3.11.3"
  }
 },
 "nbformat": 4,
 "nbformat_minor": 5
}
